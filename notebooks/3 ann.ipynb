{
 "cells": [
  {
   "cell_type": "markdown",
   "id": "c8583f99-3eb2-4fae-be98-2062b1f9315f",
   "metadata": {},
   "source": [
    "# Email Marketing Campaign\n",
    "\n",
    "\n",
    "## Goal\n",
    "\n",
    "Optimizing marketing campaigns is one of the most common data science tasks. Among the many marketing tools available, emails stand out as particularly efficient.\n",
    "Emails are great because they are free, scalable, and can be easily personalized. Email optimization involves personalizing the content and/or the subject line, selecting the recipients, and determining the timing of the sends, among other factors. Machine Learning excels at this.\n",
    "\n",
    "## Case Description\n",
    "\n",
    "The marketing team of an e-commerce site has launched an email campaign. This site has email addresses from all the users who created an account in the past.\n",
    "\n",
    "They have chosen a random sample of users and emailed them. The email lets the user know about a new feature implemented on the site. From the marketing team perspective, success is if the user clicks on the link inside of the email. This link takes the user to the company site.\n",
    "\n",
    "\n",
    "You are in charge of figuring out how the email campaign performed and were asked the following questions:\n",
    "\n",
    "- What percentage of users opened the email and what percentage clicked on the link within the email?\n",
    "\n",
    "- The VP of marketing thinks that it is stupid to send emails in a random way. Based on all the information you have about the emails that were sent, can you build a model to optimize in future how to send emails to maximize the probability of users clicking on the link inside the email?\n",
    "\n",
    "- By how much do you think your model would improve click through rate (defined as # of users who click on the link/total users who receive the email). How would you test that?\n",
    "\n",
    "- Did you find any interesting pattern on how the email campaign performed for different segments of users? Explain.\n",
    "\n",
    "\n"
   ]
  },
  {
   "cell_type": "markdown",
   "id": "c36b6cf6-9d76-4afe-9c00-290d22a594db",
   "metadata": {},
   "source": [
    "# Data\n",
    "We have 3 tables in this case study.Available here\n",
    "The 3 tables are:\n",
    "\n",
    "\n",
    "## email_table \n",
    "- info about each email that was sent\n",
    "\n",
    "## Columns:\n",
    "- email_id : the Id of the email that was sent. It is unique by email.\n",
    "- email_text : there are two versions of the email: one has “long text” (i.e. has 4 paragraphs) and one has “short text” (just two paragraphs)\n",
    "has 4 paragraphs) and one has “short text” (just two paragraphs)\n",
    "- email_version : some emails were “personalized” (i.e. they had the name of the user receiving the email in the incipit, such as “Hi John”), while some emails were “generic” (the incipit was just “Hi,”).\n",
    "- hour : the local time on which the email was sent.\n",
    "- weekday : the day on which the email was sent.\n",
    "- user_country : the country where the user receiving the email was based. It comes from the user ip address when she created the account.\n",
    "- user_past_purchases : how many items in the past were bought by the user receiving the email\n",
    "\n",
    "\n",
    "# email_opened_table \n",
    "\n",
    "- the id of the emails that were opened at least once.\n",
    "  \n",
    "Columns:\n",
    "- email_id : the id of the emails that were opened, i.e. the user clicked on the email and, supposedly, read it.\n",
    "\n",
    "# link_clicked_table \n",
    "- the id of the emails whose link inside was clicked at least once.\n",
    " \n",
    "Columns:\n",
    "\n",
    "- email_id : if the user clicked on the link within the email, then the id of the email shows up on this table.\n",
    "\n"
   ]
  },
  {
   "cell_type": "code",
   "execution_count": 1,
   "id": "7b28856c-981c-46b3-99c8-b2b1ca519af2",
   "metadata": {},
   "outputs": [],
   "source": [
    "import numpy as np\n",
    "import pandas as pd\n",
    "import seaborn as sns\n",
    "import matplotlib.pyplot as plt\n",
    "\n",
    "import warnings \n",
    "warnings.filterwarnings('ignore')"
   ]
  },
  {
   "cell_type": "code",
   "execution_count": 2,
   "id": "34a2dc59-b5e3-4671-9320-bcd5ea87b861",
   "metadata": {},
   "outputs": [
    {
     "data": {
      "text/html": [
       "<div>\n",
       "<style scoped>\n",
       "    .dataframe tbody tr th:only-of-type {\n",
       "        vertical-align: middle;\n",
       "    }\n",
       "\n",
       "    .dataframe tbody tr th {\n",
       "        vertical-align: top;\n",
       "    }\n",
       "\n",
       "    .dataframe thead th {\n",
       "        text-align: right;\n",
       "    }\n",
       "</style>\n",
       "<table border=\"1\" class=\"dataframe\">\n",
       "  <thead>\n",
       "    <tr style=\"text-align: right;\">\n",
       "      <th></th>\n",
       "      <th>email_id</th>\n",
       "      <th>email_text</th>\n",
       "      <th>email_version</th>\n",
       "      <th>hour</th>\n",
       "      <th>weekday</th>\n",
       "      <th>user_country</th>\n",
       "      <th>user_past_purchases</th>\n",
       "    </tr>\n",
       "  </thead>\n",
       "  <tbody>\n",
       "    <tr>\n",
       "      <th>0</th>\n",
       "      <td>85120</td>\n",
       "      <td>short_email</td>\n",
       "      <td>personalized</td>\n",
       "      <td>2</td>\n",
       "      <td>Sunday</td>\n",
       "      <td>US</td>\n",
       "      <td>5</td>\n",
       "    </tr>\n",
       "    <tr>\n",
       "      <th>1</th>\n",
       "      <td>966622</td>\n",
       "      <td>long_email</td>\n",
       "      <td>personalized</td>\n",
       "      <td>12</td>\n",
       "      <td>Sunday</td>\n",
       "      <td>UK</td>\n",
       "      <td>2</td>\n",
       "    </tr>\n",
       "    <tr>\n",
       "      <th>2</th>\n",
       "      <td>777221</td>\n",
       "      <td>long_email</td>\n",
       "      <td>personalized</td>\n",
       "      <td>11</td>\n",
       "      <td>Wednesday</td>\n",
       "      <td>US</td>\n",
       "      <td>2</td>\n",
       "    </tr>\n",
       "    <tr>\n",
       "      <th>3</th>\n",
       "      <td>493711</td>\n",
       "      <td>short_email</td>\n",
       "      <td>generic</td>\n",
       "      <td>6</td>\n",
       "      <td>Monday</td>\n",
       "      <td>UK</td>\n",
       "      <td>1</td>\n",
       "    </tr>\n",
       "    <tr>\n",
       "      <th>4</th>\n",
       "      <td>106887</td>\n",
       "      <td>long_email</td>\n",
       "      <td>generic</td>\n",
       "      <td>14</td>\n",
       "      <td>Monday</td>\n",
       "      <td>US</td>\n",
       "      <td>6</td>\n",
       "    </tr>\n",
       "  </tbody>\n",
       "</table>\n",
       "</div>"
      ],
      "text/plain": [
       "   email_id   email_text email_version  hour    weekday user_country  \\\n",
       "0     85120  short_email  personalized     2     Sunday           US   \n",
       "1    966622   long_email  personalized    12     Sunday           UK   \n",
       "2    777221   long_email  personalized    11  Wednesday           US   \n",
       "3    493711  short_email       generic     6     Monday           UK   \n",
       "4    106887   long_email       generic    14     Monday           US   \n",
       "\n",
       "   user_past_purchases  \n",
       "0                    5  \n",
       "1                    2  \n",
       "2                    2  \n",
       "3                    1  \n",
       "4                    6  "
      ]
     },
     "execution_count": 2,
     "metadata": {},
     "output_type": "execute_result"
    }
   ],
   "source": [
    "df = pd.read_csv('email_table.csv')\n",
    "df.head(5)"
   ]
  },
  {
   "cell_type": "code",
   "execution_count": 3,
   "id": "12f89c24-45d8-4e01-aac7-275d92df93c6",
   "metadata": {},
   "outputs": [
    {
     "data": {
      "text/html": [
       "<div>\n",
       "<style scoped>\n",
       "    .dataframe tbody tr th:only-of-type {\n",
       "        vertical-align: middle;\n",
       "    }\n",
       "\n",
       "    .dataframe tbody tr th {\n",
       "        vertical-align: top;\n",
       "    }\n",
       "\n",
       "    .dataframe thead th {\n",
       "        text-align: right;\n",
       "    }\n",
       "</style>\n",
       "<table border=\"1\" class=\"dataframe\">\n",
       "  <thead>\n",
       "    <tr style=\"text-align: right;\">\n",
       "      <th></th>\n",
       "      <th>email_id</th>\n",
       "    </tr>\n",
       "  </thead>\n",
       "  <tbody>\n",
       "    <tr>\n",
       "      <th>0</th>\n",
       "      <td>284534</td>\n",
       "    </tr>\n",
       "    <tr>\n",
       "      <th>1</th>\n",
       "      <td>609056</td>\n",
       "    </tr>\n",
       "    <tr>\n",
       "      <th>2</th>\n",
       "      <td>220820</td>\n",
       "    </tr>\n",
       "    <tr>\n",
       "      <th>3</th>\n",
       "      <td>905936</td>\n",
       "    </tr>\n",
       "    <tr>\n",
       "      <th>4</th>\n",
       "      <td>164034</td>\n",
       "    </tr>\n",
       "  </tbody>\n",
       "</table>\n",
       "</div>"
      ],
      "text/plain": [
       "   email_id\n",
       "0    284534\n",
       "1    609056\n",
       "2    220820\n",
       "3    905936\n",
       "4    164034"
      ]
     },
     "execution_count": 3,
     "metadata": {},
     "output_type": "execute_result"
    }
   ],
   "source": [
    "email_opened = pd.read_csv('email_opened_table.csv')\n",
    "email_opened.head()"
   ]
  },
  {
   "cell_type": "code",
   "execution_count": 4,
   "id": "65aef983-5ee5-4a71-be0d-fc962b5d8cf7",
   "metadata": {},
   "outputs": [
    {
     "name": "stdout",
     "output_type": "stream",
     "text": [
      "<class 'pandas.core.frame.DataFrame'>\n",
      "RangeIndex: 10345 entries, 0 to 10344\n",
      "Data columns (total 1 columns):\n",
      " #   Column    Non-Null Count  Dtype\n",
      "---  ------    --------------  -----\n",
      " 0   email_id  10345 non-null  int64\n",
      "dtypes: int64(1)\n",
      "memory usage: 80.9 KB\n"
     ]
    }
   ],
   "source": [
    "email_opened.info()"
   ]
  },
  {
   "cell_type": "code",
   "execution_count": 5,
   "id": "8f736594-66be-44fd-bd90-cbf2e5b0153a",
   "metadata": {},
   "outputs": [
    {
     "data": {
      "text/html": [
       "<div>\n",
       "<style scoped>\n",
       "    .dataframe tbody tr th:only-of-type {\n",
       "        vertical-align: middle;\n",
       "    }\n",
       "\n",
       "    .dataframe tbody tr th {\n",
       "        vertical-align: top;\n",
       "    }\n",
       "\n",
       "    .dataframe thead th {\n",
       "        text-align: right;\n",
       "    }\n",
       "</style>\n",
       "<table border=\"1\" class=\"dataframe\">\n",
       "  <thead>\n",
       "    <tr style=\"text-align: right;\">\n",
       "      <th></th>\n",
       "      <th>email_id</th>\n",
       "    </tr>\n",
       "  </thead>\n",
       "  <tbody>\n",
       "    <tr>\n",
       "      <th>0</th>\n",
       "      <td>609056</td>\n",
       "    </tr>\n",
       "    <tr>\n",
       "      <th>1</th>\n",
       "      <td>870980</td>\n",
       "    </tr>\n",
       "    <tr>\n",
       "      <th>2</th>\n",
       "      <td>935124</td>\n",
       "    </tr>\n",
       "    <tr>\n",
       "      <th>3</th>\n",
       "      <td>158501</td>\n",
       "    </tr>\n",
       "    <tr>\n",
       "      <th>4</th>\n",
       "      <td>177561</td>\n",
       "    </tr>\n",
       "  </tbody>\n",
       "</table>\n",
       "</div>"
      ],
      "text/plain": [
       "   email_id\n",
       "0    609056\n",
       "1    870980\n",
       "2    935124\n",
       "3    158501\n",
       "4    177561"
      ]
     },
     "execution_count": 5,
     "metadata": {},
     "output_type": "execute_result"
    }
   ],
   "source": [
    "link = pd.read_csv('link_clicked_table.csv')\n",
    "link.head()"
   ]
  },
  {
   "cell_type": "code",
   "execution_count": 6,
   "id": "48a7226a-ca5b-44a3-a8b3-6d89e0a2fa05",
   "metadata": {},
   "outputs": [
    {
     "name": "stdout",
     "output_type": "stream",
     "text": [
      "<class 'pandas.core.frame.DataFrame'>\n",
      "RangeIndex: 2119 entries, 0 to 2118\n",
      "Data columns (total 1 columns):\n",
      " #   Column    Non-Null Count  Dtype\n",
      "---  ------    --------------  -----\n",
      " 0   email_id  2119 non-null   int64\n",
      "dtypes: int64(1)\n",
      "memory usage: 16.7 KB\n"
     ]
    }
   ],
   "source": [
    "link.info()"
   ]
  },
  {
   "cell_type": "code",
   "execution_count": 7,
   "id": "b2c2108b-eccd-464d-8899-1e8bf9fdcb9d",
   "metadata": {},
   "outputs": [
    {
     "name": "stdout",
     "output_type": "stream",
     "text": [
      "<class 'pandas.core.frame.DataFrame'>\n",
      "RangeIndex: 100000 entries, 0 to 99999\n",
      "Data columns (total 7 columns):\n",
      " #   Column               Non-Null Count   Dtype \n",
      "---  ------               --------------   ----- \n",
      " 0   email_id             100000 non-null  int64 \n",
      " 1   email_text           100000 non-null  object\n",
      " 2   email_version        100000 non-null  object\n",
      " 3   hour                 100000 non-null  int64 \n",
      " 4   weekday              100000 non-null  object\n",
      " 5   user_country         100000 non-null  object\n",
      " 6   user_past_purchases  100000 non-null  int64 \n",
      "dtypes: int64(3), object(4)\n",
      "memory usage: 5.3+ MB\n"
     ]
    }
   ],
   "source": [
    "df.info()"
   ]
  },
  {
   "cell_type": "code",
   "execution_count": 8,
   "id": "720f1682-753e-4f82-883a-e324cbdee48c",
   "metadata": {},
   "outputs": [
    {
     "data": {
      "text/plain": [
       "email_text\n",
       "long_email     50276\n",
       "short_email    49724\n",
       "Name: count, dtype: int64"
      ]
     },
     "execution_count": 8,
     "metadata": {},
     "output_type": "execute_result"
    }
   ],
   "source": [
    "df['email_text'].value_counts()"
   ]
  },
  {
   "cell_type": "code",
   "execution_count": 9,
   "id": "ae38263a-0e9d-4bdf-9df6-3f3881d4e53b",
   "metadata": {},
   "outputs": [
    {
     "data": {
      "text/plain": [
       "email_version\n",
       "generic         50209\n",
       "personalized    49791\n",
       "Name: count, dtype: int64"
      ]
     },
     "execution_count": 9,
     "metadata": {},
     "output_type": "execute_result"
    }
   ],
   "source": [
    "df['email_version'].value_counts()"
   ]
  },
  {
   "cell_type": "code",
   "execution_count": 10,
   "id": "c2dbeef2-f71b-4f54-a07e-6e130ec83e4d",
   "metadata": {},
   "outputs": [
    {
     "data": {
      "text/plain": [
       "hour\n",
       "9     8529\n",
       "8     8398\n",
       "7     8204\n",
       "10    8180\n",
       "11    7483\n",
       "6     7465\n",
       "5     6551\n",
       "12    6508\n",
       "4     5622\n",
       "13    5581\n",
       "3     4610\n",
       "14    4580\n",
       "2     3676\n",
       "15    3493\n",
       "16    2759\n",
       "1     2703\n",
       "17    1893\n",
       "18    1421\n",
       "19     905\n",
       "20     656\n",
       "21     365\n",
       "22     204\n",
       "23     145\n",
       "24      69\n",
       "Name: count, dtype: int64"
      ]
     },
     "execution_count": 10,
     "metadata": {},
     "output_type": "execute_result"
    }
   ],
   "source": [
    "df['hour'].value_counts()"
   ]
  },
  {
   "cell_type": "code",
   "execution_count": 11,
   "id": "f18b31ce-3700-44cd-8919-95f4aef528b7",
   "metadata": {},
   "outputs": [
    {
     "data": {
      "text/plain": [
       "weekday\n",
       "Saturday     14569\n",
       "Sunday       14387\n",
       "Monday       14363\n",
       "Thursday     14277\n",
       "Friday       14177\n",
       "Tuesday      14143\n",
       "Wednesday    14084\n",
       "Name: count, dtype: int64"
      ]
     },
     "execution_count": 11,
     "metadata": {},
     "output_type": "execute_result"
    }
   ],
   "source": [
    "df['weekday'].value_counts()"
   ]
  },
  {
   "cell_type": "code",
   "execution_count": 12,
   "id": "4b1e8a46-ff12-4c6c-8609-78f8957225a3",
   "metadata": {},
   "outputs": [
    {
     "data": {
      "text/plain": [
       "user_country\n",
       "US    60099\n",
       "UK    19939\n",
       "FR     9995\n",
       "ES     9967\n",
       "Name: count, dtype: int64"
      ]
     },
     "execution_count": 12,
     "metadata": {},
     "output_type": "execute_result"
    }
   ],
   "source": [
    "df['user_country'].value_counts()"
   ]
  },
  {
   "cell_type": "code",
   "execution_count": 13,
   "id": "704d09ad-adc5-42d4-a5ea-3811c6b00ef2",
   "metadata": {},
   "outputs": [
    {
     "data": {
      "text/plain": [
       "user_past_purchases\n",
       "0     13877\n",
       "1     13751\n",
       "2     13036\n",
       "3     12077\n",
       "4     10743\n",
       "5      9042\n",
       "6      7518\n",
       "7      6051\n",
       "8      4393\n",
       "9      3296\n",
       "10     2363\n",
       "11     1553\n",
       "12      944\n",
       "13      578\n",
       "14      362\n",
       "15      188\n",
       "16      102\n",
       "17       60\n",
       "18       35\n",
       "19       15\n",
       "20       11\n",
       "21        4\n",
       "22        1\n",
       "Name: count, dtype: int64"
      ]
     },
     "execution_count": 13,
     "metadata": {},
     "output_type": "execute_result"
    }
   ],
   "source": [
    "df['user_past_purchases'].value_counts()"
   ]
  },
  {
   "cell_type": "markdown",
   "id": "8021c910-7beb-4001-8b68-bb11c3440232",
   "metadata": {},
   "source": [
    "# EDA "
   ]
  },
  {
   "cell_type": "code",
   "execution_count": 14,
   "id": "4c0954a0-6cd0-42dc-8575-e92b9ced2fb8",
   "metadata": {},
   "outputs": [],
   "source": [
    "click_val = link['email_id'].values\n",
    "\n",
    "def clicks(x):\n",
    "    if x in click_val:\n",
    "        return 1\n",
    "    else:\n",
    "        return 0"
   ]
  },
  {
   "cell_type": "code",
   "execution_count": null,
   "id": "cc682bf6-143d-43c2-a849-def8fa21e46d",
   "metadata": {},
   "outputs": [],
   "source": []
  },
  {
   "cell_type": "code",
   "execution_count": null,
   "id": "6c96af5f-4b8b-47ad-85e7-e9f6af18c287",
   "metadata": {},
   "outputs": [],
   "source": []
  },
  {
   "cell_type": "code",
   "execution_count": null,
   "id": "b9ec816a-5907-4bba-b96c-3c2fd81712e0",
   "metadata": {},
   "outputs": [],
   "source": []
  },
  {
   "cell_type": "code",
   "execution_count": null,
   "id": "993dc099-140a-433a-8a18-fa0b538268e0",
   "metadata": {},
   "outputs": [],
   "source": []
  },
  {
   "cell_type": "code",
   "execution_count": null,
   "id": "eb75eefb-bb97-48e0-8a1c-89c8ccc9c52f",
   "metadata": {},
   "outputs": [],
   "source": []
  },
  {
   "cell_type": "code",
   "execution_count": null,
   "id": "c6c650e9-e0c7-4789-8578-93b9c689afe9",
   "metadata": {},
   "outputs": [],
   "source": []
  },
  {
   "cell_type": "code",
   "execution_count": null,
   "id": "c7535522-2d25-4de2-a194-c14342a3a509",
   "metadata": {},
   "outputs": [],
   "source": []
  },
  {
   "cell_type": "code",
   "execution_count": null,
   "id": "4403cfcd-8240-4833-b09f-54fc64d94eb1",
   "metadata": {},
   "outputs": [],
   "source": []
  },
  {
   "cell_type": "code",
   "execution_count": null,
   "id": "cc7727a7-b0bf-4edb-98c2-2ea33787d221",
   "metadata": {},
   "outputs": [],
   "source": []
  },
  {
   "cell_type": "markdown",
   "id": "30041d4a-f679-4f0f-a1ed-c4375e821058",
   "metadata": {},
   "source": [
    "## setting the target variable"
   ]
  },
  {
   "cell_type": "code",
   "execution_count": 15,
   "id": "f7929e47-8e06-4ead-9fec-6b7d7f056c01",
   "metadata": {},
   "outputs": [],
   "source": [
    "df['opened'] = df['email_id'].isin(email_opened['email_id']).astype(int)"
   ]
  },
  {
   "cell_type": "code",
   "execution_count": 16,
   "id": "9291b804-06cb-45a8-bec8-55f1389ea901",
   "metadata": {},
   "outputs": [],
   "source": [
    "df['clicked'] = df['email_id'].isin(link['email_id']).astype(int)"
   ]
  },
  {
   "cell_type": "code",
   "execution_count": 17,
   "id": "533aaafb-a2e3-4fb1-bf00-e1d0d40e218e",
   "metadata": {},
   "outputs": [
    {
     "data": {
      "text/html": [
       "<div>\n",
       "<style scoped>\n",
       "    .dataframe tbody tr th:only-of-type {\n",
       "        vertical-align: middle;\n",
       "    }\n",
       "\n",
       "    .dataframe tbody tr th {\n",
       "        vertical-align: top;\n",
       "    }\n",
       "\n",
       "    .dataframe thead th {\n",
       "        text-align: right;\n",
       "    }\n",
       "</style>\n",
       "<table border=\"1\" class=\"dataframe\">\n",
       "  <thead>\n",
       "    <tr style=\"text-align: right;\">\n",
       "      <th></th>\n",
       "      <th>email_id</th>\n",
       "      <th>email_text</th>\n",
       "      <th>email_version</th>\n",
       "      <th>hour</th>\n",
       "      <th>weekday</th>\n",
       "      <th>user_country</th>\n",
       "      <th>user_past_purchases</th>\n",
       "      <th>opened</th>\n",
       "      <th>clicked</th>\n",
       "    </tr>\n",
       "  </thead>\n",
       "  <tbody>\n",
       "    <tr>\n",
       "      <th>0</th>\n",
       "      <td>85120</td>\n",
       "      <td>short_email</td>\n",
       "      <td>personalized</td>\n",
       "      <td>2</td>\n",
       "      <td>Sunday</td>\n",
       "      <td>US</td>\n",
       "      <td>5</td>\n",
       "      <td>0</td>\n",
       "      <td>0</td>\n",
       "    </tr>\n",
       "    <tr>\n",
       "      <th>1</th>\n",
       "      <td>966622</td>\n",
       "      <td>long_email</td>\n",
       "      <td>personalized</td>\n",
       "      <td>12</td>\n",
       "      <td>Sunday</td>\n",
       "      <td>UK</td>\n",
       "      <td>2</td>\n",
       "      <td>1</td>\n",
       "      <td>1</td>\n",
       "    </tr>\n",
       "    <tr>\n",
       "      <th>2</th>\n",
       "      <td>777221</td>\n",
       "      <td>long_email</td>\n",
       "      <td>personalized</td>\n",
       "      <td>11</td>\n",
       "      <td>Wednesday</td>\n",
       "      <td>US</td>\n",
       "      <td>2</td>\n",
       "      <td>0</td>\n",
       "      <td>0</td>\n",
       "    </tr>\n",
       "    <tr>\n",
       "      <th>3</th>\n",
       "      <td>493711</td>\n",
       "      <td>short_email</td>\n",
       "      <td>generic</td>\n",
       "      <td>6</td>\n",
       "      <td>Monday</td>\n",
       "      <td>UK</td>\n",
       "      <td>1</td>\n",
       "      <td>0</td>\n",
       "      <td>0</td>\n",
       "    </tr>\n",
       "    <tr>\n",
       "      <th>4</th>\n",
       "      <td>106887</td>\n",
       "      <td>long_email</td>\n",
       "      <td>generic</td>\n",
       "      <td>14</td>\n",
       "      <td>Monday</td>\n",
       "      <td>US</td>\n",
       "      <td>6</td>\n",
       "      <td>0</td>\n",
       "      <td>0</td>\n",
       "    </tr>\n",
       "  </tbody>\n",
       "</table>\n",
       "</div>"
      ],
      "text/plain": [
       "   email_id   email_text email_version  hour    weekday user_country  \\\n",
       "0     85120  short_email  personalized     2     Sunday           US   \n",
       "1    966622   long_email  personalized    12     Sunday           UK   \n",
       "2    777221   long_email  personalized    11  Wednesday           US   \n",
       "3    493711  short_email       generic     6     Monday           UK   \n",
       "4    106887   long_email       generic    14     Monday           US   \n",
       "\n",
       "   user_past_purchases  opened  clicked  \n",
       "0                    5       0        0  \n",
       "1                    2       1        1  \n",
       "2                    2       0        0  \n",
       "3                    1       0        0  \n",
       "4                    6       0        0  "
      ]
     },
     "execution_count": 17,
     "metadata": {},
     "output_type": "execute_result"
    }
   ],
   "source": [
    "df.head()"
   ]
  },
  {
   "cell_type": "code",
   "execution_count": 18,
   "id": "6fa8b158-f82f-4262-bdc5-0a66f95c7faa",
   "metadata": {},
   "outputs": [
    {
     "data": {
      "image/png": "[encoded data removed]",
      "text/plain": [
       "<Figure size 800x600 with 1 Axes>"
      ]
     },
     "metadata": {},
     "output_type": "display_data"
    }
   ],
   "source": [
    "plt.figure(figsize=(8,6))\n",
    "\n",
    "sns.countplot(x='weekday', hue='clicked',data=df)\n",
    "plt.show()"
   ]
  },
  {
   "cell_type": "code",
   "execution_count": 19,
   "id": "91b1c773-1955-45f6-bc35-f99c396305c3",
   "metadata": {},
   "outputs": [
    {
     "data": {
      "image/png": "[encoded data removed]",
      "text/plain": [
       "<Figure size 800x600 with 1 Axes>"
      ]
     },
     "metadata": {},
     "output_type": "display_data"
    }
   ],
   "source": [
    "plt.figure(figsize=(8,6))\n",
    "\n",
    "sns.countplot(x='email_text', hue='clicked',data=df)\n",
    "plt.show()"
   ]
  },
  {
   "cell_type": "code",
   "execution_count": 20,
   "id": "ce33ea78-4f53-4553-b58f-db025b9cdf9d",
   "metadata": {},
   "outputs": [
    {
     "data": {
      "image/png": "[encoded data removed]",
      "text/plain": [
       "<Figure size 800x600 with 1 Axes>"
      ]
     },
     "metadata": {},
     "output_type": "display_data"
    }
   ],
   "source": [
    "plt.figure(figsize=(8,6))\n",
    "\n",
    "sns.countplot(x='hour', hue='clicked',data=df)\n",
    "plt.show()"
   ]
  },
  {
   "cell_type": "code",
   "execution_count": 21,
   "id": "d847c209-b2fa-4665-a119-b57395d04167",
   "metadata": {},
   "outputs": [
    {
     "data": {
      "image/png": "[encoded data removed]",
      "text/plain": [
       "<Figure size 800x600 with 1 Axes>"
      ]
     },
     "metadata": {},
     "output_type": "display_data"
    }
   ],
   "source": [
    "plt.figure(figsize=(8,6))\n",
    "\n",
    "sns.countplot(x='user_country', hue='clicked',data=df)\n",
    "plt.show()"
   ]
  },
  {
   "cell_type": "code",
   "execution_count": 22,
   "id": "bc91b298-8535-4ef3-b7c9-33580c8708d3",
   "metadata": {},
   "outputs": [
    {
     "data": {
      "image/png": "[encoded data removed]",
      "text/plain": [
       "<Figure size 800x600 with 1 Axes>"
      ]
     },
     "metadata": {},
     "output_type": "display_data"
    }
   ],
   "source": [
    "plt.figure(figsize=(8,6))\n",
    "\n",
    "sns.countplot(x='user_past_purchases', hue='clicked',data=df)\n",
    "plt.show()"
   ]
  },
  {
   "cell_type": "code",
   "execution_count": null,
   "id": "93ef1cea-6947-4e28-b83a-0908a603443b",
   "metadata": {},
   "outputs": [],
   "source": []
  },
  {
   "cell_type": "markdown",
   "id": "3ef54a83-33c0-48d2-a9f2-af4d6fb878eb",
   "metadata": {},
   "source": [
    "## converting categorical to numerical"
   ]
  },
  {
   "cell_type": "code",
   "execution_count": 23,
   "id": "75874d90-54a3-4844-ac44-a4153d3f5c32",
   "metadata": {},
   "outputs": [],
   "source": [
    "import pandas as pd\n",
    "from sklearn.model_selection import train_test_split\n",
    "from sklearn.preprocessing import LabelEncoder\n",
    "\n",
    "df_encoded = df.copy()\n",
    "\n",
    "# Label Encoding for binary categories\n",
    "le = LabelEncoder()\n",
    "\n",
    "df_encoded['email_text'] = le.fit_transform(df_encoded['email_text'])         # short_email = 0, long_email = 1\n",
    "df_encoded['email_version'] = le.fit_transform(df_encoded['email_version']) # generic = 0, personalized = 1\n",
    "\n",
    "#df_encoded['weekday'] = le.fit_transform(df_encoded['weekday'])\n",
    "#df_encoded['user_country'] = le.fit_transform(df_encoded['user_country'])\n",
    "\n",
    "\n",
    "\n",
    "# One-Hot Encoding for non-binary categories\n",
    "df_encoded = pd.get_dummies(df_encoded, columns=['weekday', 'user_country'], drop_first=True)\n",
    "\n",
    "df_encoded = df_encoded.astype(int)\n",
    "\n",
    "\n",
    "# Feature columns (all except email_id, opened, clicked)\n",
    "feature_cols = [col for col in df_encoded.columns if col not in ['email_id', 'opened', 'clicked']]\n"
   ]
  },
  {
   "cell_type": "code",
   "execution_count": 24,
   "id": "897b397d-d7a0-4d8c-9fd0-a67e19fcc27a",
   "metadata": {},
   "outputs": [
    {
     "data": {
      "text/html": [
       "<div>\n",
       "<style scoped>\n",
       "    .dataframe tbody tr th:only-of-type {\n",
       "        vertical-align: middle;\n",
       "    }\n",
       "\n",
       "    .dataframe tbody tr th {\n",
       "        vertical-align: top;\n",
       "    }\n",
       "\n",
       "    .dataframe thead th {\n",
       "        text-align: right;\n",
       "    }\n",
       "</style>\n",
       "<table border=\"1\" class=\"dataframe\">\n",
       "  <thead>\n",
       "    <tr style=\"text-align: right;\">\n",
       "      <th></th>\n",
       "      <th>email_id</th>\n",
       "      <th>email_text</th>\n",
       "      <th>email_version</th>\n",
       "      <th>hour</th>\n",
       "      <th>user_past_purchases</th>\n",
       "      <th>opened</th>\n",
       "      <th>clicked</th>\n",
       "      <th>weekday_Monday</th>\n",
       "      <th>weekday_Saturday</th>\n",
       "      <th>weekday_Sunday</th>\n",
       "      <th>weekday_Thursday</th>\n",
       "      <th>weekday_Tuesday</th>\n",
       "      <th>weekday_Wednesday</th>\n",
       "      <th>user_country_FR</th>\n",
       "      <th>user_country_UK</th>\n",
       "      <th>user_country_US</th>\n",
       "    </tr>\n",
       "  </thead>\n",
       "  <tbody>\n",
       "    <tr>\n",
       "      <th>0</th>\n",
       "      <td>85120</td>\n",
       "      <td>1</td>\n",
       "      <td>1</td>\n",
       "      <td>2</td>\n",
       "      <td>5</td>\n",
       "      <td>0</td>\n",
       "      <td>0</td>\n",
       "      <td>0</td>\n",
       "      <td>0</td>\n",
       "      <td>1</td>\n",
       "      <td>0</td>\n",
       "      <td>0</td>\n",
       "      <td>0</td>\n",
       "      <td>0</td>\n",
       "      <td>0</td>\n",
       "      <td>1</td>\n",
       "    </tr>\n",
       "    <tr>\n",
       "      <th>1</th>\n",
       "      <td>966622</td>\n",
       "      <td>0</td>\n",
       "      <td>1</td>\n",
       "      <td>12</td>\n",
       "      <td>2</td>\n",
       "      <td>1</td>\n",
       "      <td>1</td>\n",
       "      <td>0</td>\n",
       "      <td>0</td>\n",
       "      <td>1</td>\n",
       "      <td>0</td>\n",
       "      <td>0</td>\n",
       "      <td>0</td>\n",
       "      <td>0</td>\n",
       "      <td>1</td>\n",
       "      <td>0</td>\n",
       "    </tr>\n",
       "    <tr>\n",
       "      <th>2</th>\n",
       "      <td>777221</td>\n",
       "      <td>0</td>\n",
       "      <td>1</td>\n",
       "      <td>11</td>\n",
       "      <td>2</td>\n",
       "      <td>0</td>\n",
       "      <td>0</td>\n",
       "      <td>0</td>\n",
       "      <td>0</td>\n",
       "      <td>0</td>\n",
       "      <td>0</td>\n",
       "      <td>0</td>\n",
       "      <td>1</td>\n",
       "      <td>0</td>\n",
       "      <td>0</td>\n",
       "      <td>1</td>\n",
       "    </tr>\n",
       "    <tr>\n",
       "      <th>3</th>\n",
       "      <td>493711</td>\n",
       "      <td>1</td>\n",
       "      <td>0</td>\n",
       "      <td>6</td>\n",
       "      <td>1</td>\n",
       "      <td>0</td>\n",
       "      <td>0</td>\n",
       "      <td>1</td>\n",
       "      <td>0</td>\n",
       "      <td>0</td>\n",
       "      <td>0</td>\n",
       "      <td>0</td>\n",
       "      <td>0</td>\n",
       "      <td>0</td>\n",
       "      <td>1</td>\n",
       "      <td>0</td>\n",
       "    </tr>\n",
       "    <tr>\n",
       "      <th>4</th>\n",
       "      <td>106887</td>\n",
       "      <td>0</td>\n",
       "      <td>0</td>\n",
       "      <td>14</td>\n",
       "      <td>6</td>\n",
       "      <td>0</td>\n",
       "      <td>0</td>\n",
       "      <td>1</td>\n",
       "      <td>0</td>\n",
       "      <td>0</td>\n",
       "      <td>0</td>\n",
       "      <td>0</td>\n",
       "      <td>0</td>\n",
       "      <td>0</td>\n",
       "      <td>0</td>\n",
       "      <td>1</td>\n",
       "    </tr>\n",
       "  </tbody>\n",
       "</table>\n",
       "</div>"
      ],
      "text/plain": [
       "   email_id  email_text  email_version  hour  user_past_purchases  opened  \\\n",
       "0     85120           1              1     2                    5       0   \n",
       "1    966622           0              1    12                    2       1   \n",
       "2    777221           0              1    11                    2       0   \n",
       "3    493711           1              0     6                    1       0   \n",
       "4    106887           0              0    14                    6       0   \n",
       "\n",
       "   clicked  weekday_Monday  weekday_Saturday  weekday_Sunday  \\\n",
       "0        0               0                 0               1   \n",
       "1        1               0                 0               1   \n",
       "2        0               0                 0               0   \n",
       "3        0               1                 0               0   \n",
       "4        0               1                 0               0   \n",
       "\n",
       "   weekday_Thursday  weekday_Tuesday  weekday_Wednesday  user_country_FR  \\\n",
       "0                 0                0                  0                0   \n",
       "1                 0                0                  0                0   \n",
       "2                 0                0                  1                0   \n",
       "3                 0                0                  0                0   \n",
       "4                 0                0                  0                0   \n",
       "\n",
       "   user_country_UK  user_country_US  \n",
       "0                0                1  \n",
       "1                1                0  \n",
       "2                0                1  \n",
       "3                1                0  \n",
       "4                0                1  "
      ]
     },
     "execution_count": 24,
     "metadata": {},
     "output_type": "execute_result"
    }
   ],
   "source": [
    "df_encoded.head()"
   ]
  },
  {
   "cell_type": "code",
   "execution_count": 25,
   "id": "f3c5f9f6-c0f1-4b77-b34a-fc55849e036c",
   "metadata": {},
   "outputs": [],
   "source": [
    "df_encoded.to_csv('cleaned_data.csv', index=False)"
   ]
  },
  {
   "cell_type": "code",
   "execution_count": 26,
   "id": "c87a9980-5e30-443a-90b3-95ad960b899d",
   "metadata": {},
   "outputs": [
    {
     "name": "stdout",
     "output_type": "stream",
     "text": [
      "<class 'pandas.core.frame.DataFrame'>\n",
      "RangeIndex: 100000 entries, 0 to 99999\n",
      "Data columns (total 16 columns):\n",
      " #   Column               Non-Null Count   Dtype\n",
      "---  ------               --------------   -----\n",
      " 0   email_id             100000 non-null  int64\n",
      " 1   email_text           100000 non-null  int64\n",
      " 2   email_version        100000 non-null  int64\n",
      " 3   hour                 100000 non-null  int64\n",
      " 4   user_past_purchases  100000 non-null  int64\n",
      " 5   opened               100000 non-null  int64\n",
      " 6   clicked              100000 non-null  int64\n",
      " 7   weekday_Monday       100000 non-null  int64\n",
      " 8   weekday_Saturday     100000 non-null  int64\n",
      " 9   weekday_Sunday       100000 non-null  int64\n",
      " 10  weekday_Thursday     100000 non-null  int64\n",
      " 11  weekday_Tuesday      100000 non-null  int64\n",
      " 12  weekday_Wednesday    100000 non-null  int64\n",
      " 13  user_country_FR      100000 non-null  int64\n",
      " 14  user_country_UK      100000 non-null  int64\n",
      " 15  user_country_US      100000 non-null  int64\n",
      "dtypes: int64(16)\n",
      "memory usage: 12.2 MB\n"
     ]
    }
   ],
   "source": [
    "df_encoded.info()"
   ]
  },
  {
   "cell_type": "code",
   "execution_count": 27,
   "id": "37b9bb35-fce6-4beb-bf6b-52ce41052046",
   "metadata": {},
   "outputs": [
    {
     "data": {
      "text/html": [
       "<div>\n",
       "<style scoped>\n",
       "    .dataframe tbody tr th:only-of-type {\n",
       "        vertical-align: middle;\n",
       "    }\n",
       "\n",
       "    .dataframe tbody tr th {\n",
       "        vertical-align: top;\n",
       "    }\n",
       "\n",
       "    .dataframe thead th {\n",
       "        text-align: right;\n",
       "    }\n",
       "</style>\n",
       "<table border=\"1\" class=\"dataframe\">\n",
       "  <thead>\n",
       "    <tr style=\"text-align: right;\">\n",
       "      <th></th>\n",
       "      <th>email_id</th>\n",
       "      <th>email_text</th>\n",
       "      <th>email_version</th>\n",
       "      <th>hour</th>\n",
       "      <th>user_past_purchases</th>\n",
       "      <th>opened</th>\n",
       "      <th>clicked</th>\n",
       "      <th>weekday_Monday</th>\n",
       "      <th>weekday_Saturday</th>\n",
       "      <th>weekday_Sunday</th>\n",
       "      <th>weekday_Thursday</th>\n",
       "      <th>weekday_Tuesday</th>\n",
       "      <th>weekday_Wednesday</th>\n",
       "      <th>user_country_FR</th>\n",
       "      <th>user_country_UK</th>\n",
       "      <th>user_country_US</th>\n",
       "    </tr>\n",
       "  </thead>\n",
       "  <tbody>\n",
       "    <tr>\n",
       "      <th>email_id</th>\n",
       "      <td>1.000000</td>\n",
       "      <td>0.001249</td>\n",
       "      <td>-0.000241</td>\n",
       "      <td>-0.003563</td>\n",
       "      <td>0.002099</td>\n",
       "      <td>0.000443</td>\n",
       "      <td>-0.001198</td>\n",
       "      <td>0.001956</td>\n",
       "      <td>-0.004713</td>\n",
       "      <td>-0.002021</td>\n",
       "      <td>-0.001334</td>\n",
       "      <td>0.004823</td>\n",
       "      <td>0.002190</td>\n",
       "      <td>0.000045</td>\n",
       "      <td>-0.001023</td>\n",
       "      <td>0.000700</td>\n",
       "    </tr>\n",
       "    <tr>\n",
       "      <th>email_text</th>\n",
       "      <td>0.001249</td>\n",
       "      <td>1.000000</td>\n",
       "      <td>-0.000283</td>\n",
       "      <td>-0.001611</td>\n",
       "      <td>-0.003217</td>\n",
       "      <td>0.040523</td>\n",
       "      <td>0.018519</td>\n",
       "      <td>-0.002900</td>\n",
       "      <td>-0.001434</td>\n",
       "      <td>-0.002211</td>\n",
       "      <td>0.004397</td>\n",
       "      <td>0.001351</td>\n",
       "      <td>-0.001617</td>\n",
       "      <td>0.000606</td>\n",
       "      <td>-0.001675</td>\n",
       "      <td>-0.000352</td>\n",
       "    </tr>\n",
       "    <tr>\n",
       "      <th>email_version</th>\n",
       "      <td>-0.000241</td>\n",
       "      <td>-0.000283</td>\n",
       "      <td>1.000000</td>\n",
       "      <td>-0.000827</td>\n",
       "      <td>-0.001914</td>\n",
       "      <td>0.079471</td>\n",
       "      <td>0.042208</td>\n",
       "      <td>0.001968</td>\n",
       "      <td>-0.006692</td>\n",
       "      <td>0.007327</td>\n",
       "      <td>-0.000438</td>\n",
       "      <td>0.004078</td>\n",
       "      <td>-0.000032</td>\n",
       "      <td>-0.000974</td>\n",
       "      <td>0.002261</td>\n",
       "      <td>-0.002364</td>\n",
       "    </tr>\n",
       "    <tr>\n",
       "      <th>hour</th>\n",
       "      <td>-0.003563</td>\n",
       "      <td>-0.001611</td>\n",
       "      <td>-0.000827</td>\n",
       "      <td>1.000000</td>\n",
       "      <td>0.002986</td>\n",
       "      <td>0.025972</td>\n",
       "      <td>0.011047</td>\n",
       "      <td>-0.000326</td>\n",
       "      <td>0.003186</td>\n",
       "      <td>0.003920</td>\n",
       "      <td>-0.004266</td>\n",
       "      <td>-0.001750</td>\n",
       "      <td>0.000743</td>\n",
       "      <td>-0.002363</td>\n",
       "      <td>-0.001930</td>\n",
       "      <td>0.002296</td>\n",
       "    </tr>\n",
       "    <tr>\n",
       "      <th>user_past_purchases</th>\n",
       "      <td>0.002099</td>\n",
       "      <td>-0.003217</td>\n",
       "      <td>-0.001914</td>\n",
       "      <td>0.002986</td>\n",
       "      <td>1.000000</td>\n",
       "      <td>0.085934</td>\n",
       "      <td>0.105445</td>\n",
       "      <td>0.002996</td>\n",
       "      <td>0.001382</td>\n",
       "      <td>-0.006180</td>\n",
       "      <td>-0.003082</td>\n",
       "      <td>0.007193</td>\n",
       "      <td>-0.004210</td>\n",
       "      <td>0.004537</td>\n",
       "      <td>-0.005430</td>\n",
       "      <td>-0.002140</td>\n",
       "    </tr>\n",
       "    <tr>\n",
       "      <th>opened</th>\n",
       "      <td>0.000443</td>\n",
       "      <td>0.040523</td>\n",
       "      <td>0.079471</td>\n",
       "      <td>0.025972</td>\n",
       "      <td>0.085934</td>\n",
       "      <td>1.000000</td>\n",
       "      <td>0.421750</td>\n",
       "      <td>0.016960</td>\n",
       "      <td>-0.021422</td>\n",
       "      <td>-0.021270</td>\n",
       "      <td>0.020090</td>\n",
       "      <td>0.022701</td>\n",
       "      <td>0.022372</td>\n",
       "      <td>-0.068750</td>\n",
       "      <td>0.027393</td>\n",
       "      <td>0.062746</td>\n",
       "    </tr>\n",
       "    <tr>\n",
       "      <th>clicked</th>\n",
       "      <td>-0.001198</td>\n",
       "      <td>0.018519</td>\n",
       "      <td>0.042208</td>\n",
       "      <td>0.011047</td>\n",
       "      <td>0.105445</td>\n",
       "      <td>0.421750</td>\n",
       "      <td>1.000000</td>\n",
       "      <td>0.004880</td>\n",
       "      <td>-0.009588</td>\n",
       "      <td>-0.012635</td>\n",
       "      <td>0.009223</td>\n",
       "      <td>0.010423</td>\n",
       "      <td>0.018077</td>\n",
       "      <td>-0.030511</td>\n",
       "      <td>0.012077</td>\n",
       "      <td>0.027012</td>\n",
       "    </tr>\n",
       "    <tr>\n",
       "      <th>weekday_Monday</th>\n",
       "      <td>0.001956</td>\n",
       "      <td>-0.002900</td>\n",
       "      <td>0.001968</td>\n",
       "      <td>-0.000326</td>\n",
       "      <td>0.002996</td>\n",
       "      <td>0.016960</td>\n",
       "      <td>0.004880</td>\n",
       "      <td>1.000000</td>\n",
       "      <td>-0.169122</td>\n",
       "      <td>-0.167883</td>\n",
       "      <td>-0.167133</td>\n",
       "      <td>-0.166217</td>\n",
       "      <td>-0.165813</td>\n",
       "      <td>-0.003383</td>\n",
       "      <td>0.000012</td>\n",
       "      <td>-0.000234</td>\n",
       "    </tr>\n",
       "    <tr>\n",
       "      <th>weekday_Saturday</th>\n",
       "      <td>-0.004713</td>\n",
       "      <td>-0.001434</td>\n",
       "      <td>-0.006692</td>\n",
       "      <td>0.003186</td>\n",
       "      <td>0.001382</td>\n",
       "      <td>-0.021422</td>\n",
       "      <td>-0.009588</td>\n",
       "      <td>-0.169122</td>\n",
       "      <td>1.000000</td>\n",
       "      <td>-0.169287</td>\n",
       "      <td>-0.168530</td>\n",
       "      <td>-0.167606</td>\n",
       "      <td>-0.167199</td>\n",
       "      <td>0.001590</td>\n",
       "      <td>0.002276</td>\n",
       "      <td>-0.004331</td>\n",
       "    </tr>\n",
       "    <tr>\n",
       "      <th>weekday_Sunday</th>\n",
       "      <td>-0.002021</td>\n",
       "      <td>-0.002211</td>\n",
       "      <td>0.007327</td>\n",
       "      <td>0.003920</td>\n",
       "      <td>-0.006180</td>\n",
       "      <td>-0.021270</td>\n",
       "      <td>-0.012635</td>\n",
       "      <td>-0.167883</td>\n",
       "      <td>-0.169287</td>\n",
       "      <td>1.000000</td>\n",
       "      <td>-0.167296</td>\n",
       "      <td>-0.166379</td>\n",
       "      <td>-0.165974</td>\n",
       "      <td>-0.001233</td>\n",
       "      <td>-0.000758</td>\n",
       "      <td>0.002127</td>\n",
       "    </tr>\n",
       "    <tr>\n",
       "      <th>weekday_Thursday</th>\n",
       "      <td>-0.001334</td>\n",
       "      <td>0.004397</td>\n",
       "      <td>-0.000438</td>\n",
       "      <td>-0.004266</td>\n",
       "      <td>-0.003082</td>\n",
       "      <td>0.020090</td>\n",
       "      <td>0.009223</td>\n",
       "      <td>-0.167133</td>\n",
       "      <td>-0.168530</td>\n",
       "      <td>-0.167296</td>\n",
       "      <td>1.000000</td>\n",
       "      <td>-0.165635</td>\n",
       "      <td>-0.165233</td>\n",
       "      <td>-0.002667</td>\n",
       "      <td>-0.003269</td>\n",
       "      <td>0.003833</td>\n",
       "    </tr>\n",
       "    <tr>\n",
       "      <th>weekday_Tuesday</th>\n",
       "      <td>0.004823</td>\n",
       "      <td>0.001351</td>\n",
       "      <td>0.004078</td>\n",
       "      <td>-0.001750</td>\n",
       "      <td>0.007193</td>\n",
       "      <td>0.022701</td>\n",
       "      <td>0.010423</td>\n",
       "      <td>-0.166217</td>\n",
       "      <td>-0.167606</td>\n",
       "      <td>-0.166379</td>\n",
       "      <td>-0.165635</td>\n",
       "      <td>1.000000</td>\n",
       "      <td>-0.164327</td>\n",
       "      <td>0.003770</td>\n",
       "      <td>0.002875</td>\n",
       "      <td>-0.004208</td>\n",
       "    </tr>\n",
       "    <tr>\n",
       "      <th>weekday_Wednesday</th>\n",
       "      <td>0.002190</td>\n",
       "      <td>-0.001617</td>\n",
       "      <td>-0.000032</td>\n",
       "      <td>0.000743</td>\n",
       "      <td>-0.004210</td>\n",
       "      <td>0.022372</td>\n",
       "      <td>0.018077</td>\n",
       "      <td>-0.165813</td>\n",
       "      <td>-0.167199</td>\n",
       "      <td>-0.165974</td>\n",
       "      <td>-0.165233</td>\n",
       "      <td>-0.164327</td>\n",
       "      <td>1.000000</td>\n",
       "      <td>0.004821</td>\n",
       "      <td>-0.004548</td>\n",
       "      <td>0.001389</td>\n",
       "    </tr>\n",
       "    <tr>\n",
       "      <th>user_country_FR</th>\n",
       "      <td>0.000045</td>\n",
       "      <td>0.000606</td>\n",
       "      <td>-0.000974</td>\n",
       "      <td>-0.002363</td>\n",
       "      <td>0.004537</td>\n",
       "      <td>-0.068750</td>\n",
       "      <td>-0.030511</td>\n",
       "      <td>-0.003383</td>\n",
       "      <td>0.001590</td>\n",
       "      <td>-0.001233</td>\n",
       "      <td>-0.002667</td>\n",
       "      <td>0.003770</td>\n",
       "      <td>0.004821</td>\n",
       "      <td>1.000000</td>\n",
       "      <td>-0.166303</td>\n",
       "      <td>-0.408978</td>\n",
       "    </tr>\n",
       "    <tr>\n",
       "      <th>user_country_UK</th>\n",
       "      <td>-0.001023</td>\n",
       "      <td>-0.001675</td>\n",
       "      <td>0.002261</td>\n",
       "      <td>-0.001930</td>\n",
       "      <td>-0.005430</td>\n",
       "      <td>0.027393</td>\n",
       "      <td>0.012077</td>\n",
       "      <td>0.000012</td>\n",
       "      <td>0.002276</td>\n",
       "      <td>-0.000758</td>\n",
       "      <td>-0.003269</td>\n",
       "      <td>0.002875</td>\n",
       "      <td>-0.004548</td>\n",
       "      <td>-0.166303</td>\n",
       "      <td>1.000000</td>\n",
       "      <td>-0.612467</td>\n",
       "    </tr>\n",
       "    <tr>\n",
       "      <th>user_country_US</th>\n",
       "      <td>0.000700</td>\n",
       "      <td>-0.000352</td>\n",
       "      <td>-0.002364</td>\n",
       "      <td>0.002296</td>\n",
       "      <td>-0.002140</td>\n",
       "      <td>0.062746</td>\n",
       "      <td>0.027012</td>\n",
       "      <td>-0.000234</td>\n",
       "      <td>-0.004331</td>\n",
       "      <td>0.002127</td>\n",
       "      <td>0.003833</td>\n",
       "      <td>-0.004208</td>\n",
       "      <td>0.001389</td>\n",
       "      <td>-0.408978</td>\n",
       "      <td>-0.612467</td>\n",
       "      <td>1.000000</td>\n",
       "    </tr>\n",
       "  </tbody>\n",
       "</table>\n",
       "</div>"
      ],
      "text/plain": [
       "                     email_id  email_text  email_version      hour  \\\n",
       "email_id             1.000000    0.001249      -0.000241 -0.003563   \n",
       "email_text           0.001249    1.000000      -0.000283 -0.001611   \n",
       "email_version       -0.000241   -0.000283       1.000000 -0.000827   \n",
       "hour                -0.003563   -0.001611      -0.000827  1.000000   \n",
       "user_past_purchases  0.002099   -0.003217      -0.001914  0.002986   \n",
       "opened               0.000443    0.040523       0.079471  0.025972   \n",
       "clicked             -0.001198    0.018519       0.042208  0.011047   \n",
       "weekday_Monday       0.001956   -0.002900       0.001968 -0.000326   \n",
       "weekday_Saturday    -0.004713   -0.001434      -0.006692  0.003186   \n",
       "weekday_Sunday      -0.002021   -0.002211       0.007327  0.003920   \n",
       "weekday_Thursday    -0.001334    0.004397      -0.000438 -0.004266   \n",
       "weekday_Tuesday      0.004823    0.001351       0.004078 -0.001750   \n",
       "weekday_Wednesday    0.002190   -0.001617      -0.000032  0.000743   \n",
       "user_country_FR      0.000045    0.000606      -0.000974 -0.002363   \n",
       "user_country_UK     -0.001023   -0.001675       0.002261 -0.001930   \n",
       "user_country_US      0.000700   -0.000352      -0.002364  0.002296   \n",
       "\n",
       "                     user_past_purchases    opened   clicked  weekday_Monday  \\\n",
       "email_id                        0.002099  0.000443 -0.001198        0.001956   \n",
       "email_text                     -0.003217  0.040523  0.018519       -0.002900   \n",
       "email_version                  -0.001914  0.079471  0.042208        0.001968   \n",
       "hour                            0.002986  0.025972  0.011047       -0.000326   \n",
       "user_past_purchases             1.000000  0.085934  0.105445        0.002996   \n",
       "opened                          0.085934  1.000000  0.421750        0.016960   \n",
       "clicked                         0.105445  0.421750  1.000000        0.004880   \n",
       "weekday_Monday                  0.002996  0.016960  0.004880        1.000000   \n",
       "weekday_Saturday                0.001382 -0.021422 -0.009588       -0.169122   \n",
       "weekday_Sunday                 -0.006180 -0.021270 -0.012635       -0.167883   \n",
       "weekday_Thursday               -0.003082  0.020090  0.009223       -0.167133   \n",
       "weekday_Tuesday                 0.007193  0.022701  0.010423       -0.166217   \n",
       "weekday_Wednesday              -0.004210  0.022372  0.018077       -0.165813   \n",
       "user_country_FR                 0.004537 -0.068750 -0.030511       -0.003383   \n",
       "user_country_UK                -0.005430  0.027393  0.012077        0.000012   \n",
       "user_country_US                -0.002140  0.062746  0.027012       -0.000234   \n",
       "\n",
       "                     weekday_Saturday  weekday_Sunday  weekday_Thursday  \\\n",
       "email_id                    -0.004713       -0.002021         -0.001334   \n",
       "email_text                  -0.001434       -0.002211          0.004397   \n",
       "email_version               -0.006692        0.007327         -0.000438   \n",
       "hour                         0.003186        0.003920         -0.004266   \n",
       "user_past_purchases          0.001382       -0.006180         -0.003082   \n",
       "opened                      -0.021422       -0.021270          0.020090   \n",
       "clicked                     -0.009588       -0.012635          0.009223   \n",
       "weekday_Monday              -0.169122       -0.167883         -0.167133   \n",
       "weekday_Saturday             1.000000       -0.169287         -0.168530   \n",
       "weekday_Sunday              -0.169287        1.000000         -0.167296   \n",
       "weekday_Thursday            -0.168530       -0.167296          1.000000   \n",
       "weekday_Tuesday             -0.167606       -0.166379         -0.165635   \n",
       "weekday_Wednesday           -0.167199       -0.165974         -0.165233   \n",
       "user_country_FR              0.001590       -0.001233         -0.002667   \n",
       "user_country_UK              0.002276       -0.000758         -0.003269   \n",
       "user_country_US             -0.004331        0.002127          0.003833   \n",
       "\n",
       "                     weekday_Tuesday  weekday_Wednesday  user_country_FR  \\\n",
       "email_id                    0.004823           0.002190         0.000045   \n",
       "email_text                  0.001351          -0.001617         0.000606   \n",
       "email_version               0.004078          -0.000032        -0.000974   \n",
       "hour                       -0.001750           0.000743        -0.002363   \n",
       "user_past_purchases         0.007193          -0.004210         0.004537   \n",
       "opened                      0.022701           0.022372        -0.068750   \n",
       "clicked                     0.010423           0.018077        -0.030511   \n",
       "weekday_Monday             -0.166217          -0.165813        -0.003383   \n",
       "weekday_Saturday           -0.167606          -0.167199         0.001590   \n",
       "weekday_Sunday             -0.166379          -0.165974        -0.001233   \n",
       "weekday_Thursday           -0.165635          -0.165233        -0.002667   \n",
       "weekday_Tuesday             1.000000          -0.164327         0.003770   \n",
       "weekday_Wednesday          -0.164327           1.000000         0.004821   \n",
       "user_country_FR             0.003770           0.004821         1.000000   \n",
       "user_country_UK             0.002875          -0.004548        -0.166303   \n",
       "user_country_US            -0.004208           0.001389        -0.408978   \n",
       "\n",
       "                     user_country_UK  user_country_US  \n",
       "email_id                   -0.001023         0.000700  \n",
       "email_text                 -0.001675        -0.000352  \n",
       "email_version               0.002261        -0.002364  \n",
       "hour                       -0.001930         0.002296  \n",
       "user_past_purchases        -0.005430        -0.002140  \n",
       "opened                      0.027393         0.062746  \n",
       "clicked                     0.012077         0.027012  \n",
       "weekday_Monday              0.000012        -0.000234  \n",
       "weekday_Saturday            0.002276        -0.004331  \n",
       "weekday_Sunday             -0.000758         0.002127  \n",
       "weekday_Thursday           -0.003269         0.003833  \n",
       "weekday_Tuesday             0.002875        -0.004208  \n",
       "weekday_Wednesday          -0.004548         0.001389  \n",
       "user_country_FR            -0.166303        -0.408978  \n",
       "user_country_UK             1.000000        -0.612467  \n",
       "user_country_US            -0.612467         1.000000  "
      ]
     },
     "execution_count": 27,
     "metadata": {},
     "output_type": "execute_result"
    }
   ],
   "source": [
    "df_encoded.corr()"
   ]
  },
  {
   "cell_type": "code",
   "execution_count": 29,
   "id": "4d3cf6e4-fae3-46e4-a348-90fc4cdb9bd1",
   "metadata": {},
   "outputs": [
    {
     "data": {
      "image/png": "[encoded data removed]",
      "text/plain": [
       "<Figure size 800x600 with 2 Axes>"
      ]
     },
     "metadata": {},
     "output_type": "display_data"
    }
   ],
   "source": [
    "plt.figure(figsize=(8,6))\n",
    "\n",
    "sns.heatmap(data=df_encoded.corr(),cmap='coolwarm')\n",
    "plt.show()"
   ]
  },
  {
   "cell_type": "code",
   "execution_count": 39,
   "id": "6bdad568-0942-4116-b3c1-d5c5cd7679a6",
   "metadata": {},
   "outputs": [],
   "source": [
    "df = df_encoded"
   ]
  },
  {
   "cell_type": "code",
   "execution_count": 40,
   "id": "e0274aa6-a3a3-4783-893c-f15d3f902888",
   "metadata": {},
   "outputs": [],
   "source": [
    "## upsampling\n",
    "df_minority=df[df['clicked']==1]\n",
    "df_majority=df[df['clicked']==0]"
   ]
  },
  {
   "cell_type": "code",
   "execution_count": 41,
   "id": "e39a00ac-c1dc-45f5-8d95-43c416bf2b46",
   "metadata": {},
   "outputs": [],
   "source": [
    "from sklearn.utils import resample\n",
    "df_minority_upsampled=resample(df_minority,replace=True, #Sample With replacement\n",
    "         n_samples=len(df_majority),\n",
    "         random_state=42\n",
    "        )"
   ]
  },
  {
   "cell_type": "code",
   "execution_count": 42,
   "id": "2fa951fc-d280-425e-8eb0-20aa9de3446c",
   "metadata": {},
   "outputs": [],
   "source": [
    "df_upsampled = pd.concat([df_majority,df_minority_upsampled])"
   ]
  },
  {
   "cell_type": "code",
   "execution_count": 43,
   "id": "1b9e5626-39c4-418e-919d-680258ded175",
   "metadata": {},
   "outputs": [],
   "source": [
    "df = df_upsampled"
   ]
  },
  {
   "cell_type": "code",
   "execution_count": 44,
   "id": "1732cb9f-508c-4a16-b5c1-107cc120c327",
   "metadata": {},
   "outputs": [
    {
     "data": {
      "text/html": [
       "<div>\n",
       "<style scoped>\n",
       "    .dataframe tbody tr th:only-of-type {\n",
       "        vertical-align: middle;\n",
       "    }\n",
       "\n",
       "    .dataframe tbody tr th {\n",
       "        vertical-align: top;\n",
       "    }\n",
       "\n",
       "    .dataframe thead th {\n",
       "        text-align: right;\n",
       "    }\n",
       "</style>\n",
       "<table border=\"1\" class=\"dataframe\">\n",
       "  <thead>\n",
       "    <tr style=\"text-align: right;\">\n",
       "      <th></th>\n",
       "      <th>email_id</th>\n",
       "      <th>email_text</th>\n",
       "      <th>email_version</th>\n",
       "      <th>hour</th>\n",
       "      <th>user_past_purchases</th>\n",
       "      <th>opened</th>\n",
       "      <th>clicked</th>\n",
       "      <th>weekday_Monday</th>\n",
       "      <th>weekday_Saturday</th>\n",
       "      <th>weekday_Sunday</th>\n",
       "      <th>weekday_Thursday</th>\n",
       "      <th>weekday_Tuesday</th>\n",
       "      <th>weekday_Wednesday</th>\n",
       "      <th>user_country_FR</th>\n",
       "      <th>user_country_UK</th>\n",
       "      <th>user_country_US</th>\n",
       "    </tr>\n",
       "  </thead>\n",
       "  <tbody>\n",
       "    <tr>\n",
       "      <th>0</th>\n",
       "      <td>85120</td>\n",
       "      <td>1</td>\n",
       "      <td>1</td>\n",
       "      <td>2</td>\n",
       "      <td>5</td>\n",
       "      <td>0</td>\n",
       "      <td>0</td>\n",
       "      <td>0</td>\n",
       "      <td>0</td>\n",
       "      <td>1</td>\n",
       "      <td>0</td>\n",
       "      <td>0</td>\n",
       "      <td>0</td>\n",
       "      <td>0</td>\n",
       "      <td>0</td>\n",
       "      <td>1</td>\n",
       "    </tr>\n",
       "    <tr>\n",
       "      <th>2</th>\n",
       "      <td>777221</td>\n",
       "      <td>0</td>\n",
       "      <td>1</td>\n",
       "      <td>11</td>\n",
       "      <td>2</td>\n",
       "      <td>0</td>\n",
       "      <td>0</td>\n",
       "      <td>0</td>\n",
       "      <td>0</td>\n",
       "      <td>0</td>\n",
       "      <td>0</td>\n",
       "      <td>0</td>\n",
       "      <td>1</td>\n",
       "      <td>0</td>\n",
       "      <td>0</td>\n",
       "      <td>1</td>\n",
       "    </tr>\n",
       "    <tr>\n",
       "      <th>3</th>\n",
       "      <td>493711</td>\n",
       "      <td>1</td>\n",
       "      <td>0</td>\n",
       "      <td>6</td>\n",
       "      <td>1</td>\n",
       "      <td>0</td>\n",
       "      <td>0</td>\n",
       "      <td>1</td>\n",
       "      <td>0</td>\n",
       "      <td>0</td>\n",
       "      <td>0</td>\n",
       "      <td>0</td>\n",
       "      <td>0</td>\n",
       "      <td>0</td>\n",
       "      <td>1</td>\n",
       "      <td>0</td>\n",
       "    </tr>\n",
       "    <tr>\n",
       "      <th>4</th>\n",
       "      <td>106887</td>\n",
       "      <td>0</td>\n",
       "      <td>0</td>\n",
       "      <td>14</td>\n",
       "      <td>6</td>\n",
       "      <td>0</td>\n",
       "      <td>0</td>\n",
       "      <td>1</td>\n",
       "      <td>0</td>\n",
       "      <td>0</td>\n",
       "      <td>0</td>\n",
       "      <td>0</td>\n",
       "      <td>0</td>\n",
       "      <td>0</td>\n",
       "      <td>0</td>\n",
       "      <td>1</td>\n",
       "    </tr>\n",
       "    <tr>\n",
       "      <th>5</th>\n",
       "      <td>684440</td>\n",
       "      <td>0</td>\n",
       "      <td>1</td>\n",
       "      <td>6</td>\n",
       "      <td>3</td>\n",
       "      <td>0</td>\n",
       "      <td>0</td>\n",
       "      <td>0</td>\n",
       "      <td>0</td>\n",
       "      <td>1</td>\n",
       "      <td>0</td>\n",
       "      <td>0</td>\n",
       "      <td>0</td>\n",
       "      <td>0</td>\n",
       "      <td>1</td>\n",
       "      <td>0</td>\n",
       "    </tr>\n",
       "  </tbody>\n",
       "</table>\n",
       "</div>"
      ],
      "text/plain": [
       "   email_id  email_text  email_version  hour  user_past_purchases  opened  \\\n",
       "0     85120           1              1     2                    5       0   \n",
       "2    777221           0              1    11                    2       0   \n",
       "3    493711           1              0     6                    1       0   \n",
       "4    106887           0              0    14                    6       0   \n",
       "5    684440           0              1     6                    3       0   \n",
       "\n",
       "   clicked  weekday_Monday  weekday_Saturday  weekday_Sunday  \\\n",
       "0        0               0                 0               1   \n",
       "2        0               0                 0               0   \n",
       "3        0               1                 0               0   \n",
       "4        0               1                 0               0   \n",
       "5        0               0                 0               1   \n",
       "\n",
       "   weekday_Thursday  weekday_Tuesday  weekday_Wednesday  user_country_FR  \\\n",
       "0                 0                0                  0                0   \n",
       "2                 0                0                  1                0   \n",
       "3                 0                0                  0                0   \n",
       "4                 0                0                  0                0   \n",
       "5                 0                0                  0                0   \n",
       "\n",
       "   user_country_UK  user_country_US  \n",
       "0                0                1  \n",
       "2                0                1  \n",
       "3                1                0  \n",
       "4                0                1  \n",
       "5                1                0  "
      ]
     },
     "execution_count": 44,
     "metadata": {},
     "output_type": "execute_result"
    }
   ],
   "source": [
    "df.head()"
   ]
  },
  {
   "cell_type": "code",
   "execution_count": 45,
   "id": "b50e835b-fb33-4169-9c39-1c37bc93b40a",
   "metadata": {},
   "outputs": [
    {
     "data": {
      "text/plain": [
       "clicked\n",
       "0    97881\n",
       "1    97881\n",
       "Name: count, dtype: int64"
      ]
     },
     "execution_count": 45,
     "metadata": {},
     "output_type": "execute_result"
    }
   ],
   "source": [
    "df['clicked'].value_counts()"
   ]
  },
  {
   "cell_type": "markdown",
   "id": "cccffd70-5923-4b31-9552-6de28dfcf434",
   "metadata": {},
   "source": [
    "# Train test split"
   ]
  },
  {
   "cell_type": "code",
   "execution_count": 46,
   "id": "c1d00a21-d5a4-4fb7-ad1a-0a573548ecef",
   "metadata": {},
   "outputs": [],
   "source": [
    "# Feature columns (all except email_id, opened, clicked)\n",
    "feature_cols = [col for col in df.columns if col not in ['email_id', 'opened', 'clicked']]"
   ]
  },
  {
   "cell_type": "code",
   "execution_count": 47,
   "id": "1f6455d5-84e0-47a4-934d-ba99721d4e0a",
   "metadata": {},
   "outputs": [
    {
     "data": {
      "text/plain": [
       "['email_text',\n",
       " 'email_version',\n",
       " 'hour',\n",
       " 'user_past_purchases',\n",
       " 'weekday_Monday',\n",
       " 'weekday_Saturday',\n",
       " 'weekday_Sunday',\n",
       " 'weekday_Thursday',\n",
       " 'weekday_Tuesday',\n",
       " 'weekday_Wednesday',\n",
       " 'user_country_FR',\n",
       " 'user_country_UK',\n",
       " 'user_country_US']"
      ]
     },
     "execution_count": 47,
     "metadata": {},
     "output_type": "execute_result"
    }
   ],
   "source": [
    "feature_cols"
   ]
  },
  {
   "cell_type": "code",
   "execution_count": 49,
   "id": "6c422e49-29e6-4796-bb57-a4fe0364eb2a",
   "metadata": {},
   "outputs": [],
   "source": [
    "X = df[feature_cols]\n",
    "y = df['clicked']"
   ]
  },
  {
   "cell_type": "code",
   "execution_count": 50,
   "id": "39ff4ad5-7599-437a-a782-ae349837fb02",
   "metadata": {},
   "outputs": [
    {
     "data": {
      "text/plain": [
       "((195762, 13), (195762,))"
      ]
     },
     "execution_count": 50,
     "metadata": {},
     "output_type": "execute_result"
    }
   ],
   "source": [
    "X.shape, y.shape"
   ]
  },
  {
   "cell_type": "code",
   "execution_count": 51,
   "id": "99ad8a2f-df38-42b1-aed0-824eb9e1eb8f",
   "metadata": {},
   "outputs": [],
   "source": [
    "X_train, X_test, y_train, y_test = train_test_split(X, y, test_size=0.2, random_state=42)"
   ]
  },
  {
   "cell_type": "code",
   "execution_count": 52,
   "id": "71e96f9b-b07c-4b0a-8819-06f66f09c51d",
   "metadata": {},
   "outputs": [
    {
     "data": {
      "text/plain": [
       "((156609, 13), (156609,))"
      ]
     },
     "execution_count": 52,
     "metadata": {},
     "output_type": "execute_result"
    }
   ],
   "source": [
    "X_train.shape,y_train.shape"
   ]
  },
  {
   "cell_type": "code",
   "execution_count": 53,
   "id": "34901985-99dc-4e7b-a6ef-d09ecdb6a88f",
   "metadata": {},
   "outputs": [
    {
     "data": {
      "text/plain": [
       "((39153, 13), (39153,))"
      ]
     },
     "execution_count": 53,
     "metadata": {},
     "output_type": "execute_result"
    }
   ],
   "source": [
    "X_test.shape, y_test.shape"
   ]
  },
  {
   "cell_type": "markdown",
   "id": "42e37a48-f922-4571-be34-78a37191f29f",
   "metadata": {},
   "source": [
    "## Data Scaling"
   ]
  },
  {
   "cell_type": "raw",
   "id": "e7f1e794-cb44-4d68-a93a-6db947626f74",
   "metadata": {},
   "source": [
    "from sklearn.preprocessing import StandardScaler\n",
    "\n",
    "scaler = StandardScaler()\n",
    "X_train_scaled = scaler.fit_transform(X_train)\n",
    "X_test_scaled = scaler.transform(X_test)\n"
   ]
  },
  {
   "cell_type": "markdown",
   "id": "3389a1bf-273a-4109-8958-8d548b08c4e4",
   "metadata": {},
   "source": [
    "# Modelling  - Sequential"
   ]
  },
  {
   "cell_type": "code",
   "execution_count": 54,
   "id": "9f9d0c8c-2476-4086-8339-2fa8d3e55529",
   "metadata": {},
   "outputs": [],
   "source": [
    "import tensorflow as tf\n",
    "from tensorflow import keras\n",
    "from keras.models import Sequential\n",
    "from keras.layers import Dense"
   ]
  },
  {
   "cell_type": "code",
   "execution_count": 55,
   "id": "872e1f92-daaf-4e5a-bc5c-2586a1390f9c",
   "metadata": {},
   "outputs": [
    {
     "data": {
      "text/html": [
       "<pre style=\"white-space:pre;overflow-x:auto;line-height:normal;font-family:Menlo,'DejaVu Sans Mono',consolas,'Courier New',monospace\"><span style=\"font-weight: bold\">Model: \"sequential\"</span>\n",
       "</pre>\n"
      ],
      "text/plain": [
       "\u001b[1mModel: \"sequential\"\u001b[0m\n"
      ]
     },
     "metadata": {},
     "output_type": "display_data"
    },
    {
     "data": {
      "text/html": [
       "<pre style=\"white-space:pre;overflow-x:auto;line-height:normal;font-family:Menlo,'DejaVu Sans Mono',consolas,'Courier New',monospace\">┏━━━━━━━━━━━━━━━━━━━━━━━━━━━━━━━━━━━━━━┳━━━━━━━━━━━━━━━━━━━━━━━━━━━━━┳━━━━━━━━━━━━━━━━━┓\n",
       "┃<span style=\"font-weight: bold\"> Layer (type)                         </span>┃<span style=\"font-weight: bold\"> Output Shape                </span>┃<span style=\"font-weight: bold\">         Param # </span>┃\n",
       "┡━━━━━━━━━━━━━━━━━━━━━━━━━━━━━━━━━━━━━━╇━━━━━━━━━━━━━━━━━━━━━━━━━━━━━╇━━━━━━━━━━━━━━━━━┩\n",
       "│ dense (<span style=\"color: #0087ff; text-decoration-color: #0087ff\">Dense</span>)                        │ (<span style=\"color: #00d7ff; text-decoration-color: #00d7ff\">None</span>, <span style=\"color: #00af00; text-decoration-color: #00af00\">12</span>)                  │             <span style=\"color: #00af00; text-decoration-color: #00af00\">168</span> │\n",
       "├──────────────────────────────────────┼─────────────────────────────┼─────────────────┤\n",
       "│ dense_1 (<span style=\"color: #0087ff; text-decoration-color: #0087ff\">Dense</span>)                      │ (<span style=\"color: #00d7ff; text-decoration-color: #00d7ff\">None</span>, <span style=\"color: #00af00; text-decoration-color: #00af00\">12</span>)                  │             <span style=\"color: #00af00; text-decoration-color: #00af00\">156</span> │\n",
       "├──────────────────────────────────────┼─────────────────────────────┼─────────────────┤\n",
       "│ dense_2 (<span style=\"color: #0087ff; text-decoration-color: #0087ff\">Dense</span>)                      │ (<span style=\"color: #00d7ff; text-decoration-color: #00d7ff\">None</span>, <span style=\"color: #00af00; text-decoration-color: #00af00\">1</span>)                   │              <span style=\"color: #00af00; text-decoration-color: #00af00\">13</span> │\n",
       "└──────────────────────────────────────┴─────────────────────────────┴─────────────────┘\n",
       "</pre>\n"
      ],
      "text/plain": [
       "┏━━━━━━━━━━━━━━━━━━━━━━━━━━━━━━━━━━━━━━┳━━━━━━━━━━━━━━━━━━━━━━━━━━━━━┳━━━━━━━━━━━━━━━━━┓\n",
       "┃\u001b[1m \u001b[0m\u001b[1mLayer (type)                        \u001b[0m\u001b[1m \u001b[0m┃\u001b[1m \u001b[0m\u001b[1mOutput Shape               \u001b[0m\u001b[1m \u001b[0m┃\u001b[1m \u001b[0m\u001b[1m        Param #\u001b[0m\u001b[1m \u001b[0m┃\n",
       "┡━━━━━━━━━━━━━━━━━━━━━━━━━━━━━━━━━━━━━━╇━━━━━━━━━━━━━━━━━━━━━━━━━━━━━╇━━━━━━━━━━━━━━━━━┩\n",
       "│ dense (\u001b[38;5;33mDense\u001b[0m)                        │ (\u001b[38;5;45mNone\u001b[0m, \u001b[38;5;34m12\u001b[0m)                  │             \u001b[38;5;34m168\u001b[0m │\n",
       "├──────────────────────────────────────┼─────────────────────────────┼─────────────────┤\n",
       "│ dense_1 (\u001b[38;5;33mDense\u001b[0m)                      │ (\u001b[38;5;45mNone\u001b[0m, \u001b[38;5;34m12\u001b[0m)                  │             \u001b[38;5;34m156\u001b[0m │\n",
       "├──────────────────────────────────────┼─────────────────────────────┼─────────────────┤\n",
       "│ dense_2 (\u001b[38;5;33mDense\u001b[0m)                      │ (\u001b[38;5;45mNone\u001b[0m, \u001b[38;5;34m1\u001b[0m)                   │              \u001b[38;5;34m13\u001b[0m │\n",
       "└──────────────────────────────────────┴─────────────────────────────┴─────────────────┘\n"
      ]
     },
     "metadata": {},
     "output_type": "display_data"
    },
    {
     "data": {
      "text/html": [
       "<pre style=\"white-space:pre;overflow-x:auto;line-height:normal;font-family:Menlo,'DejaVu Sans Mono',consolas,'Courier New',monospace\"><span style=\"font-weight: bold\"> Total params: </span><span style=\"color: #00af00; text-decoration-color: #00af00\">337</span> (1.32 KB)\n",
       "</pre>\n"
      ],
      "text/plain": [
       "\u001b[1m Total params: \u001b[0m\u001b[38;5;34m337\u001b[0m (1.32 KB)\n"
      ]
     },
     "metadata": {},
     "output_type": "display_data"
    },
    {
     "data": {
      "text/html": [
       "<pre style=\"white-space:pre;overflow-x:auto;line-height:normal;font-family:Menlo,'DejaVu Sans Mono',consolas,'Courier New',monospace\"><span style=\"font-weight: bold\"> Trainable params: </span><span style=\"color: #00af00; text-decoration-color: #00af00\">337</span> (1.32 KB)\n",
       "</pre>\n"
      ],
      "text/plain": [
       "\u001b[1m Trainable params: \u001b[0m\u001b[38;5;34m337\u001b[0m (1.32 KB)\n"
      ]
     },
     "metadata": {},
     "output_type": "display_data"
    },
    {
     "data": {
      "text/html": [
       "<pre style=\"white-space:pre;overflow-x:auto;line-height:normal;font-family:Menlo,'DejaVu Sans Mono',consolas,'Courier New',monospace\"><span style=\"font-weight: bold\"> Non-trainable params: </span><span style=\"color: #00af00; text-decoration-color: #00af00\">0</span> (0.00 B)\n",
       "</pre>\n"
      ],
      "text/plain": [
       "\u001b[1m Non-trainable params: \u001b[0m\u001b[38;5;34m0\u001b[0m (0.00 B)\n"
      ]
     },
     "metadata": {},
     "output_type": "display_data"
    }
   ],
   "source": [
    "model = Sequential()\n",
    "\n",
    "model.add(Dense(12, input_dim=13, activation='relu'))\n",
    "model.add(Dense(12, activation='relu'))\n",
    "model.add(Dense(1, activation='sigmoid'))\n",
    "\n",
    "model.compile(loss='binary_crossentropy', optimizer='adam', metrics=['accuracy'])\n",
    "\n",
    "model.summary()"
   ]
  },
  {
   "cell_type": "raw",
   "id": "cd8fb772-7851-45c0-b400-8c4f117600eb",
   "metadata": {},
   "source": [
    "from sklearn.utils import class_weight\n",
    "weights = class_weight.compute_class_weight('balanced', classes=np.unique(y_train), y=y_train)\n",
    "class_weights = {0: weights[0], 1: weights[1]}"
   ]
  },
  {
   "cell_type": "code",
   "execution_count": 61,
   "id": "2aa51aaa-d895-4ac9-9f59-04d1211f8c2b",
   "metadata": {},
   "outputs": [],
   "source": [
    "## Set up the early stopping\n",
    "\n",
    "from tensorflow.keras.callbacks import EarlyStopping\n",
    "early_stopping_callback = EarlyStopping(monitor='val_loss', patience=10, restore_best_weights=True)"
   ]
  },
  {
   "cell_type": "code",
   "execution_count": 62,
   "id": "528b40a0-8c99-486b-aa45-8e0d06af75e9",
   "metadata": {},
   "outputs": [
    {
     "name": "stdout",
     "output_type": "stream",
     "text": [
      "Epoch 1/100\n",
      "\u001b[1m3916/3916\u001b[0m \u001b[32m━━━━━━━━━━━━━━━━━━━━\u001b[0m\u001b[37m\u001b[0m \u001b[1m11s\u001b[0m 3ms/step - accuracy: 0.6904 - loss: 0.5584 - val_accuracy: 0.6936 - val_loss: 0.5616\n",
      "Epoch 2/100\n",
      "\u001b[1m3916/3916\u001b[0m \u001b[32m━━━━━━━━━━━━━━━━━━━━\u001b[0m\u001b[37m\u001b[0m \u001b[1m11s\u001b[0m 3ms/step - accuracy: 0.6908 - loss: 0.5584 - val_accuracy: 0.6938 - val_loss: 0.5550\n",
      "Epoch 3/100\n",
      "\u001b[1m3916/3916\u001b[0m \u001b[32m━━━━━━━━━━━━━━━━━━━━\u001b[0m\u001b[37m\u001b[0m \u001b[1m9s\u001b[0m 2ms/step - accuracy: 0.6900 - loss: 0.5583 - val_accuracy: 0.6967 - val_loss: 0.5536\n",
      "Epoch 4/100\n",
      "\u001b[1m3916/3916\u001b[0m \u001b[32m━━━━━━━━━━━━━━━━━━━━\u001b[0m\u001b[37m\u001b[0m \u001b[1m9s\u001b[0m 2ms/step - accuracy: 0.6905 - loss: 0.5583 - val_accuracy: 0.6932 - val_loss: 0.5575\n",
      "Epoch 5/100\n",
      "\u001b[1m3916/3916\u001b[0m \u001b[32m━━━━━━━━━━━━━━━━━━━━\u001b[0m\u001b[37m\u001b[0m \u001b[1m10s\u001b[0m 2ms/step - accuracy: 0.6898 - loss: 0.5582 - val_accuracy: 0.6953 - val_loss: 0.5537\n",
      "Epoch 6/100\n",
      "\u001b[1m3916/3916\u001b[0m \u001b[32m━━━━━━━━━━━━━━━━━━━━\u001b[0m\u001b[37m\u001b[0m \u001b[1m10s\u001b[0m 2ms/step - accuracy: 0.6910 - loss: 0.5574 - val_accuracy: 0.6917 - val_loss: 0.5544\n",
      "Epoch 7/100\n",
      "\u001b[1m3916/3916\u001b[0m \u001b[32m━━━━━━━━━━━━━━━━━━━━\u001b[0m\u001b[37m\u001b[0m \u001b[1m10s\u001b[0m 2ms/step - accuracy: 0.6881 - loss: 0.5580 - val_accuracy: 0.6948 - val_loss: 0.5543\n",
      "Epoch 8/100\n",
      "\u001b[1m3916/3916\u001b[0m \u001b[32m━━━━━━━━━━━━━━━━━━━━\u001b[0m\u001b[37m\u001b[0m \u001b[1m10s\u001b[0m 2ms/step - accuracy: 0.6914 - loss: 0.5549 - val_accuracy: 0.6903 - val_loss: 0.5592\n",
      "Epoch 9/100\n",
      "\u001b[1m3916/3916\u001b[0m \u001b[32m━━━━━━━━━━━━━━━━━━━━\u001b[0m\u001b[37m\u001b[0m \u001b[1m10s\u001b[0m 3ms/step - accuracy: 0.6904 - loss: 0.5554 - val_accuracy: 0.6944 - val_loss: 0.5545\n",
      "Epoch 10/100\n",
      "\u001b[1m3916/3916\u001b[0m \u001b[32m━━━━━━━━━━━━━━━━━━━━\u001b[0m\u001b[37m\u001b[0m \u001b[1m11s\u001b[0m 3ms/step - accuracy: 0.6906 - loss: 0.5562 - val_accuracy: 0.6888 - val_loss: 0.5591\n",
      "Epoch 11/100\n",
      "\u001b[1m3916/3916\u001b[0m \u001b[32m━━━━━━━━━━━━━━━━━━━━\u001b[0m\u001b[37m\u001b[0m \u001b[1m11s\u001b[0m 3ms/step - accuracy: 0.6898 - loss: 0.5551 - val_accuracy: 0.6927 - val_loss: 0.5535\n",
      "Epoch 12/100\n",
      "\u001b[1m3916/3916\u001b[0m \u001b[32m━━━━━━━━━━━━━━━━━━━━\u001b[0m\u001b[37m\u001b[0m \u001b[1m11s\u001b[0m 3ms/step - accuracy: 0.6921 - loss: 0.5553 - val_accuracy: 0.6944 - val_loss: 0.5522\n",
      "Epoch 13/100\n",
      "\u001b[1m3916/3916\u001b[0m \u001b[32m━━━━━━━━━━━━━━━━━━━━\u001b[0m\u001b[37m\u001b[0m \u001b[1m11s\u001b[0m 3ms/step - accuracy: 0.6930 - loss: 0.5538 - val_accuracy: 0.6911 - val_loss: 0.5533\n",
      "Epoch 14/100\n",
      "\u001b[1m3916/3916\u001b[0m \u001b[32m━━━━━━━━━━━━━━━━━━━━\u001b[0m\u001b[37m\u001b[0m \u001b[1m11s\u001b[0m 3ms/step - accuracy: 0.6902 - loss: 0.5549 - val_accuracy: 0.6923 - val_loss: 0.5543\n",
      "Epoch 15/100\n",
      "\u001b[1m3916/3916\u001b[0m \u001b[32m━━━━━━━━━━━━━━━━━━━━\u001b[0m\u001b[37m\u001b[0m \u001b[1m11s\u001b[0m 3ms/step - accuracy: 0.6903 - loss: 0.5559 - val_accuracy: 0.6917 - val_loss: 0.5557\n",
      "Epoch 16/100\n",
      "\u001b[1m3916/3916\u001b[0m \u001b[32m━━━━━━━━━━━━━━━━━━━━\u001b[0m\u001b[37m\u001b[0m \u001b[1m11s\u001b[0m 3ms/step - accuracy: 0.6919 - loss: 0.5550 - val_accuracy: 0.6954 - val_loss: 0.5510\n",
      "Epoch 17/100\n",
      "\u001b[1m3916/3916\u001b[0m \u001b[32m━━━━━━━━━━━━━━━━━━━━\u001b[0m\u001b[37m\u001b[0m \u001b[1m11s\u001b[0m 3ms/step - accuracy: 0.6898 - loss: 0.5542 - val_accuracy: 0.6943 - val_loss: 0.5546\n",
      "Epoch 18/100\n",
      "\u001b[1m3916/3916\u001b[0m \u001b[32m━━━━━━━━━━━━━━━━━━━━\u001b[0m\u001b[37m\u001b[0m \u001b[1m11s\u001b[0m 3ms/step - accuracy: 0.6903 - loss: 0.5544 - val_accuracy: 0.6923 - val_loss: 0.5517\n",
      "Epoch 19/100\n",
      "\u001b[1m3916/3916\u001b[0m \u001b[32m━━━━━━━━━━━━━━━━━━━━\u001b[0m\u001b[37m\u001b[0m \u001b[1m11s\u001b[0m 3ms/step - accuracy: 0.6934 - loss: 0.5526 - val_accuracy: 0.6942 - val_loss: 0.5551\n",
      "Epoch 20/100\n",
      "\u001b[1m3916/3916\u001b[0m \u001b[32m━━━━━━━━━━━━━━━━━━━━\u001b[0m\u001b[37m\u001b[0m \u001b[1m11s\u001b[0m 3ms/step - accuracy: 0.6929 - loss: 0.5533 - val_accuracy: 0.6970 - val_loss: 0.5511\n",
      "Epoch 21/100\n",
      "\u001b[1m3916/3916\u001b[0m \u001b[32m━━━━━━━━━━━━━━━━━━━━\u001b[0m\u001b[37m\u001b[0m \u001b[1m11s\u001b[0m 3ms/step - accuracy: 0.6931 - loss: 0.5525 - val_accuracy: 0.6939 - val_loss: 0.5536\n",
      "Epoch 22/100\n",
      "\u001b[1m3916/3916\u001b[0m \u001b[32m━━━━━━━━━━━━━━━━━━━━\u001b[0m\u001b[37m\u001b[0m \u001b[1m11s\u001b[0m 3ms/step - accuracy: 0.6936 - loss: 0.5516 - val_accuracy: 0.6957 - val_loss: 0.5495\n",
      "Epoch 23/100\n",
      "\u001b[1m3916/3916\u001b[0m \u001b[32m━━━━━━━━━━━━━━━━━━━━\u001b[0m\u001b[37m\u001b[0m \u001b[1m11s\u001b[0m 3ms/step - accuracy: 0.6927 - loss: 0.5531 - val_accuracy: 0.6944 - val_loss: 0.5483\n",
      "Epoch 24/100\n",
      "\u001b[1m3916/3916\u001b[0m \u001b[32m━━━━━━━━━━━━━━━━━━━━\u001b[0m\u001b[37m\u001b[0m \u001b[1m11s\u001b[0m 3ms/step - accuracy: 0.6919 - loss: 0.5527 - val_accuracy: 0.6933 - val_loss: 0.5506\n",
      "Epoch 25/100\n",
      "\u001b[1m3916/3916\u001b[0m \u001b[32m━━━━━━━━━━━━━━━━━━━━\u001b[0m\u001b[37m\u001b[0m \u001b[1m10s\u001b[0m 3ms/step - accuracy: 0.6928 - loss: 0.5534 - val_accuracy: 0.6941 - val_loss: 0.5533\n",
      "Epoch 26/100\n",
      "\u001b[1m3916/3916\u001b[0m \u001b[32m━━━━━━━━━━━━━━━━━━━━\u001b[0m\u001b[37m\u001b[0m \u001b[1m10s\u001b[0m 3ms/step - accuracy: 0.6932 - loss: 0.5515 - val_accuracy: 0.6935 - val_loss: 0.5496\n",
      "Epoch 27/100\n",
      "\u001b[1m3916/3916\u001b[0m \u001b[32m━━━━━━━━━━━━━━━━━━━━\u001b[0m\u001b[37m\u001b[0m \u001b[1m10s\u001b[0m 3ms/step - accuracy: 0.6927 - loss: 0.5523 - val_accuracy: 0.6909 - val_loss: 0.5493\n",
      "Epoch 28/100\n",
      "\u001b[1m3916/3916\u001b[0m \u001b[32m━━━━━━━━━━━━━━━━━━━━\u001b[0m\u001b[37m\u001b[0m \u001b[1m10s\u001b[0m 3ms/step - accuracy: 0.6948 - loss: 0.5505 - val_accuracy: 0.6918 - val_loss: 0.5537\n",
      "Epoch 29/100\n",
      "\u001b[1m3916/3916\u001b[0m \u001b[32m━━━━━━━━━━━━━━━━━━━━\u001b[0m\u001b[37m\u001b[0m \u001b[1m10s\u001b[0m 3ms/step - accuracy: 0.6926 - loss: 0.5528 - val_accuracy: 0.6960 - val_loss: 0.5530\n",
      "Epoch 30/100\n",
      "\u001b[1m3916/3916\u001b[0m \u001b[32m━━━━━━━━━━━━━━━━━━━━\u001b[0m\u001b[37m\u001b[0m \u001b[1m10s\u001b[0m 3ms/step - accuracy: 0.6926 - loss: 0.5534 - val_accuracy: 0.6938 - val_loss: 0.5496\n",
      "Epoch 31/100\n",
      "\u001b[1m3916/3916\u001b[0m \u001b[32m━━━━━━━━━━━━━━━━━━━━\u001b[0m\u001b[37m\u001b[0m \u001b[1m11s\u001b[0m 3ms/step - accuracy: 0.6931 - loss: 0.5518 - val_accuracy: 0.6948 - val_loss: 0.5508\n",
      "Epoch 32/100\n",
      "\u001b[1m3916/3916\u001b[0m \u001b[32m━━━━━━━━━━━━━━━━━━━━\u001b[0m\u001b[37m\u001b[0m \u001b[1m10s\u001b[0m 3ms/step - accuracy: 0.6917 - loss: 0.5522 - val_accuracy: 0.6942 - val_loss: 0.5504\n",
      "Epoch 33/100\n",
      "\u001b[1m3916/3916\u001b[0m \u001b[32m━━━━━━━━━━━━━━━━━━━━\u001b[0m\u001b[37m\u001b[0m \u001b[1m11s\u001b[0m 3ms/step - accuracy: 0.6935 - loss: 0.5515 - val_accuracy: 0.6963 - val_loss: 0.5534\n"
     ]
    }
   ],
   "source": [
    "## Train the model\n",
    "history = model.fit(\n",
    "    X_train, y_train, validation_split=0.2, epochs=100, batch_size=32, \n",
    "    callbacks=[early_stopping_callback]\n",
    "    )"
   ]
  },
  {
   "cell_type": "code",
   "execution_count": null,
   "id": "2c24c6ff-4658-4ca5-afcf-9423476144b9",
   "metadata": {},
   "outputs": [],
   "source": []
  },
  {
   "cell_type": "code",
   "execution_count": 64,
   "id": "0305098d-f7f8-4c1b-a75b-414d5ff1664c",
   "metadata": {},
   "outputs": [
    {
     "name": "stdout",
     "output_type": "stream",
     "text": [
      "\u001b[1m1224/1224\u001b[0m \u001b[32m━━━━━━━━━━━━━━━━━━━━\u001b[0m\u001b[37m\u001b[0m \u001b[1m1s\u001b[0m 1ms/step\n",
      "[[11887  7671]\n",
      " [ 4245 15350]]\n"
     ]
    },
    {
     "data": {
      "text/plain": [
       "<sklearn.metrics._plot.confusion_matrix.ConfusionMatrixDisplay at 0x22c5914d750>"
      ]
     },
     "execution_count": 64,
     "metadata": {},
     "output_type": "execute_result"
    },
    {
     "data": {
      "image/png": "[encoded data removed]",
      "text/plain": [
       "<Figure size 640x480 with 2 Axes>"
      ]
     },
     "metadata": {},
     "output_type": "display_data"
    }
   ],
   "source": [
    "from sklearn.metrics import confusion_matrix, ConfusionMatrixDisplay\n",
    "\n",
    "ypred = model.predict(X_test) > 0.5\n",
    "\n",
    "cm = confusion_matrix(y_test,ypred)\n",
    "print(cm)\n",
    "\n",
    "ConfusionMatrixDisplay(confusion_matrix=cm).plot()"
   ]
  },
  {
   "cell_type": "code",
   "execution_count": 65,
   "id": "464a8416-1d56-4ed6-b3e7-a382ba30b4e5",
   "metadata": {},
   "outputs": [
    {
     "name": "stdout",
     "output_type": "stream",
     "text": [
      "              precision    recall  f1-score   support\n",
      "\n",
      "           0       0.74      0.61      0.67     19558\n",
      "           1       0.67      0.78      0.72     19595\n",
      "\n",
      "    accuracy                           0.70     39153\n",
      "   macro avg       0.70      0.70      0.69     39153\n",
      "weighted avg       0.70      0.70      0.69     39153\n",
      "\n"
     ]
    }
   ],
   "source": [
    "from sklearn.metrics import classification_report\n",
    "print(classification_report(y_test, ypred))"
   ]
  },
  {
   "cell_type": "code",
   "execution_count": 66,
   "id": "e791de2a-9313-4f85-9fd6-81514f2744f5",
   "metadata": {},
   "outputs": [
    {
     "name": "stdout",
     "output_type": "stream",
     "text": [
      "\u001b[1m4895/4895\u001b[0m \u001b[32m━━━━━━━━━━━━━━━━━━━━\u001b[0m\u001b[37m\u001b[0m \u001b[1m6s\u001b[0m 1ms/step\n",
      "ROC :  0.6955725423150426\n"
     ]
    }
   ],
   "source": [
    "from sklearn.metrics import roc_auc_score\n",
    "ypred_proba = model.predict(X_train)\n",
    "\n",
    "print('ROC : ', roc_auc_score(y_test, ypred))"
   ]
  },
  {
   "cell_type": "raw",
   "id": "0b2ce8ff-0fb6-4b0c-84ce-2681dcef29b2",
   "metadata": {},
   "source": [
    "from imblearn.over_sampling import SMOTE\n",
    "from sklearn.metrics import classification_report\n",
    "from tensorflow.keras import layers, models\n",
    "\n",
    "# Apply SMOTE\n",
    "smote = SMOTE()\n",
    "X_resampled, y_resampled = smote.fit_resample(X_train, y_train)\n",
    "\n",
    "# Build model with class weights\n",
    "model = models.Sequential([\n",
    "    layers.Dense(64, activation='relu', input_shape=(13,)),\n",
    "    layers.Dropout(0.3),\n",
    "    layers.Dense(32, activation='relu'),\n",
    "    layers.Dense(1, activation='sigmoid')\n",
    "])\n",
    "\n",
    "# Use class weights\n",
    "class_weights = {0: 1, 1: 49}  # inverse of class ratio\n",
    "\n",
    "model.compile(optimizer='adam',\n",
    "              loss='binary_crossentropy',\n",
    "              metrics=['accuracy', \n",
    "                      tf.keras.metrics.Precision(),\n",
    "                      tf.keras.metrics.Recall()])\n",
    "\n",
    "history = model.fit(X_resampled, y_resampled,\n",
    "                    epochs=20,\n",
    "                    batch_size=32,\n",
    "                    class_weight=class_weights,\n",
    "                    validation_data=(X_test, y_test))"
   ]
  },
  {
   "cell_type": "code",
   "execution_count": 67,
   "id": "9c32c717-ab17-41a1-974f-0633ef84f87b",
   "metadata": {},
   "outputs": [
    {
     "name": "stdout",
     "output_type": "stream",
     "text": [
      "\u001b[1m1224/1224\u001b[0m \u001b[32m━━━━━━━━━━━━━━━━━━━━\u001b[0m\u001b[37m\u001b[0m \u001b[1m1s\u001b[0m 1ms/step\n",
      "[[11887  7671]\n",
      " [ 4245 15350]]\n"
     ]
    },
    {
     "data": {
      "text/plain": [
       "<sklearn.metrics._plot.confusion_matrix.ConfusionMatrixDisplay at 0x22c5a14c0d0>"
      ]
     },
     "execution_count": 67,
     "metadata": {},
     "output_type": "execute_result"
    },
    {
     "data": {
      "image/png": "[encoded data removed]",
      "text/plain": [
       "<Figure size 640x480 with 2 Axes>"
      ]
     },
     "metadata": {},
     "output_type": "display_data"
    }
   ],
   "source": [
    "\n",
    "ypred = model.predict(X_test) > 0.5\n",
    "\n",
    "cm = confusion_matrix(y_test,ypred)\n",
    "print(cm)\n",
    "\n",
    "ConfusionMatrixDisplay(confusion_matrix=cm).plot()"
   ]
  },
  {
   "cell_type": "code",
   "execution_count": 69,
   "id": "36e45f76-4646-44b2-ae0d-bc07ede9c28d",
   "metadata": {},
   "outputs": [
    {
     "name": "stdout",
     "output_type": "stream",
     "text": [
      "\u001b[1m4895/4895\u001b[0m \u001b[32m━━━━━━━━━━━━━━━━━━━━\u001b[0m\u001b[37m\u001b[0m \u001b[1m5s\u001b[0m 1ms/step\n",
      "ROC :  0.6955725423150426\n"
     ]
    }
   ],
   "source": [
    "from sklearn.metrics import roc_auc_score\n",
    "ypred_proba = model.predict(X_train)\n",
    "\n",
    "print('ROC : ', roc_auc_score(y_test, ypred))"
   ]
  },
  {
   "cell_type": "code",
   "execution_count": null,
   "id": "51ee6074-eac1-4316-882b-173f5eb97e70",
   "metadata": {},
   "outputs": [],
   "source": []
  }
 ],
 "metadata": {
  "kernelspec": {
   "display_name": "Python 3 (ipykernel)",
   "language": "python",
   "name": "python3"
  },
  "language_info": {
   "codemirror_mode": {
    "name": "ipython",
    "version": 3
   },
   "file_extension": ".py",
   "mimetype": "text/x-python",
   "name": "python",
   "nbconvert_exporter": "python",
   "pygments_lexer": "ipython3",
   "version": "3.11.1"
  }
 },
 "nbformat": 4,
 "nbformat_minor": 5
}
